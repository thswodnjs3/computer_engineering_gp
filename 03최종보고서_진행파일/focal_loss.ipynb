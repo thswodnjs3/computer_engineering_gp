{
 "cells": [
  {
   "cell_type": "code",
   "execution_count": null,
   "id": "f24eadfe",
   "metadata": {},
   "outputs": [],
   "source": [
    "#torch.nn.CrossEntropyLoss() 처럼 사용\n",
    "def focal_loss(y_pred, y_true):\n",
    "        gamma=2.0 \n",
    "        \n",
    "        batch_size = y_pred.shape[0]\n",
    "\n",
    "        y_pred=torch.exp(y_pred) / torch.sum(torch.exp(y_pred), dim=1, keepdim=True) # do softmax \n",
    "        y_pred=torch.clamp(y_pred,1e-7,1-1e-7) # clipping\n",
    "        \n",
    "        weight = torch.pow((1-y_pred), gamma) \n",
    "        weighted_cross_entropy= -torch.log(y_pred)*weight\n",
    "        \n",
    "        result=weighted_cross_entropy[range(batch_size),y_true]#select value whose label y_true is true\n",
    "        loss = torch.sum(result)/batch_size #sum and average\n",
    "        \n",
    "        return loss\n",
    "    \n",
    "#torch.nn.BCELoss() 처럼 사용\n",
    "def binary_focal_loss(y_pred, y_true):\n",
    "        gamma=2.0\n",
    "    \n",
    "        batch_size = y_pred.shape[0]\n",
    "\n",
    "        y_pred=torch.clamp(y_pred,1e-7,1-1e-7) # clipping\n",
    "    \n",
    "        weight1 = torch.pow((1-y_pred), gamma) \n",
    "        weight2 = torch.pow(y_pred, gamma) \n",
    "    \n",
    "        total_f_loss = torch.sum(-y_true * torch.log(y_pred)*weight1 - (1-y_true)*torch.log(1-y_pred)*weight2)\n",
    "    \n",
    "        mean_f_loss = total_f_loss / batch_size\n",
    "        return mean_f_loss\n"
   ]
  }
 ],
 "metadata": {
  "kernelspec": {
   "display_name": "Python 3 (ipykernel)",
   "language": "python",
   "name": "python3"
  },
  "language_info": {
   "codemirror_mode": {
    "name": "ipython",
    "version": 3
   },
   "file_extension": ".py",
   "mimetype": "text/x-python",
   "name": "python",
   "nbconvert_exporter": "python",
   "pygments_lexer": "ipython3",
   "version": "3.9.12"
  }
 },
 "nbformat": 4,
 "nbformat_minor": 5
}
